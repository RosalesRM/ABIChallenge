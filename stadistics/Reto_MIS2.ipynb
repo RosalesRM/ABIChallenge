{
  "nbformat": 4,
  "nbformat_minor": 0,
  "metadata": {
    "colab": {
      "provenance": [],
      "include_colab_link": true
    },
    "kernelspec": {
      "name": "python3",
      "display_name": "Python 3"
    },
    "language_info": {
      "name": "python"
    }
  },
  "cells": [
    {
      "cell_type": "markdown",
      "metadata": {
        "id": "view-in-github",
        "colab_type": "text"
      },
      "source": [
        "<a href=\"https://colab.research.google.com/github/RosalesRM/ABIChallenge/blob/Develop/stadistics/Reto_MIS2.ipynb\" target=\"_parent\"><img src=\"https://colab.research.google.com/assets/colab-badge.svg\" alt=\"Open In Colab\"/></a>"
      ]
    },
    {
      "cell_type": "markdown",
      "source": [
        "# Retos MIS2 Fundamentos Ciencia de Datos.\n",
        "\n",
        "## Reto Número 1.\n",
        "\n",
        "Hola te doy la bienvenida a tu reto, recuerda que:\n",
        "\n",
        "1.\tDebes realizar una copia de este Colab en tu Drive personal.\n",
        "2.\tResuelve el reto en la copia que realizaste.\n",
        "3.\tEnvía la liga pública de tu reto resuelto a través del canal general.\n",
        "\n",
        "Para este reto, por favor, realiza una función donde generes el siguiente número de la sucesión [Fibonacci](https://www.eade.es/blog/186-la-sucesion-de-fibonacci-en-el-diseno#:~:text=Se%20trata%20de%20una%20secuencia,%2C%2021%2C%2034%2C%2055%E2%80%A6) a partir del 0 y el 1, se van sumando a pares, de manera que cada número es igual a la suma de sus dos anteriores, de manera que:\n",
        "\n",
        "0, 1, 1, 2, 3, 5, 8, 13, 21, 34, 55…\n",
        "\n",
        "Integra en la función Fibonacci un ciclo **for**, donde genere los primeros números de la secuencia fibo. Recuerda poner un **print**\n",
        "\n",
        "Tip: Sera necesario usar un **if** y **else** para cumplir tal propósito."
      ],
      "metadata": {
        "id": "SibvTVgctQrQ"
      }
    },
    {
      "cell_type": "code",
      "source": [
        "# Responder en los espacios ___\n",
        "#1 ) Genera un range de 1 a N, recuerda que el último es excluyente por lo que deberas aumentarle un +1.\n",
        "#2 ) Generar un condición donde el primer ciclo solo se sume un +1.\n",
        "#3 ) Sumar las últimos dos elementos de la lista para que así se cumpla la secuencia Fibonacci.\n",
        "#4 ) Si queremos acceder al último elemento de una lista[-1], si queremos acceder al penúltimo elemento de una lista[-2] y así sucesivamente...\n",
        "def fibonacci(a):\n",
        "    respuesta = 0\n",
        "    lista = [0]\n",
        "\n",
        "    for i in range(1, a):\n",
        "        if i == 1:\n",
        "            respuesta = lista[-1] + 1\n",
        "        else:\n",
        "            respuesta = lista[-1] + lista[-2]\n",
        "\n",
        "        lista.append(respuesta)\n",
        "        print(respuesta)\n",
        "    return lista"
      ],
      "metadata": {
        "id": "O8Gb_APcWFbf"
      },
      "execution_count": null,
      "outputs": []
    },
    {
      "cell_type": "code",
      "source": [
        "# Correr la función con el número 9.\n",
        "fibonacci(10)"
      ],
      "metadata": {
        "id": "ijkXSzcpvo-y",
        "colab": {
          "base_uri": "https://localhost:8080/"
        },
        "outputId": "f2641f4d-6f2d-490e-e58f-09098e6cc7c8"
      },
      "execution_count": null,
      "outputs": [
        {
          "output_type": "stream",
          "name": "stdout",
          "text": [
            "1\n",
            "1\n",
            "2\n",
            "3\n",
            "5\n",
            "8\n",
            "13\n",
            "21\n",
            "34\n"
          ]
        },
        {
          "output_type": "execute_result",
          "data": {
            "text/plain": [
              "[0, 1, 1, 2, 3, 5, 8, 13, 21, 34]"
            ]
          },
          "metadata": {},
          "execution_count": 31
        }
      ]
    },
    {
      "cell_type": "markdown",
      "source": [
        "## Reto Número 2.\n",
        "Integra en la función Fibonacci un **while** en vez del **for** y que termine hasta que la respuesta final de la secuencia Fibonacci sea mayor de 150."
      ],
      "metadata": {
        "id": "Kpyy8mb-1jw0"
      }
    },
    {
      "cell_type": "code",
      "source": [
        "# Responder en los espacios ___\n",
        "# 1) Genera un fibonacci donde la variable \"a\" sea menor que el resultado final del fibo y termine hasta ahí.\n",
        "def fibonacci(a):\n",
        "    respuesta = 0\n",
        "    lista = [0]\n",
        "\n",
        "    while respuesta < a:\n",
        "        if respuesta == 0:\n",
        "            respuesta = lista[-1] + 1\n",
        "        else:\n",
        "            respuesta = lista[-1] + lista[-2]\n",
        "\n",
        "\n",
        "        lista.append(respuesta)\n",
        "        print(respuesta)\n",
        "\n",
        "    return lista"
      ],
      "metadata": {
        "id": "zxCeeTVrXqrE"
      },
      "execution_count": null,
      "outputs": []
    },
    {
      "cell_type": "code",
      "source": [
        "fibonacci(150)"
      ],
      "metadata": {
        "id": "YgEHw-bz2uEP",
        "colab": {
          "base_uri": "https://localhost:8080/"
        },
        "outputId": "46665694-43be-492a-ea3b-9be2583d178e"
      },
      "execution_count": null,
      "outputs": [
        {
          "output_type": "stream",
          "name": "stdout",
          "text": [
            "1\n",
            "1\n",
            "2\n",
            "3\n",
            "5\n",
            "8\n",
            "13\n",
            "21\n",
            "34\n",
            "55\n",
            "89\n",
            "144\n",
            "233\n"
          ]
        },
        {
          "output_type": "execute_result",
          "data": {
            "text/plain": [
              "[0, 1, 1, 2, 3, 5, 8, 13, 21, 34, 55, 89, 144, 233]"
            ]
          },
          "metadata": {},
          "execution_count": 37
        }
      ]
    },
    {
      "cell_type": "markdown",
      "source": [
        "### 1. Reto Alto Nivel (Opcional)\n",
        "Para cada cuadro del tablero de ajedrez, cuántos granos de trigo se usan cuando se duplica: 1 grano para el primer cuadro, 2 granos para el segundo cuadro, 4 granos para el tercer cuadro, etc. Realiza el calculo correspondiente."
      ],
      "metadata": {
        "id": "CtKGyxOWX9rB"
      }
    },
    {
      "cell_type": "code",
      "source": [
        "def calcular_granos_tablero_ajedrez():\n",
        "    cuadros = 64  # Número total de cuadros en un tablero de ajedrez\n",
        "    granos_por_cuadro = 1  # Inicialmente, hay 1 grano en el primer cuadro\n",
        "    total_granos = 0  # Inicialmente, el total de granos es 0\n",
        "\n",
        "    for cuadro in range(1, cuadros + 1):\n",
        "        total_granos += granos_por_cuadro  # Agrega los granos de este cuadro al total\n",
        "        print(f'Cuadro {cuadro}: {granos_por_cuadro} granos (Total: {total_granos} granos)')\n",
        "        granos_por_cuadro *= 2  # Duplica la cantidad de granos para el siguiente cuadro\n",
        "\n",
        "calcular_granos_tablero_ajedrez()"
      ],
      "metadata": {
        "id": "uoCg5RqzZLSX",
        "outputId": "3825ba7c-b0c9-4536-d930-0d5349b596a8",
        "colab": {
          "base_uri": "https://localhost:8080/"
        }
      },
      "execution_count": 1,
      "outputs": [
        {
          "output_type": "stream",
          "name": "stdout",
          "text": [
            "Cuadro 1: 1 granos (Total: 1 granos)\n",
            "Cuadro 2: 2 granos (Total: 3 granos)\n",
            "Cuadro 3: 4 granos (Total: 7 granos)\n",
            "Cuadro 4: 8 granos (Total: 15 granos)\n",
            "Cuadro 5: 16 granos (Total: 31 granos)\n",
            "Cuadro 6: 32 granos (Total: 63 granos)\n",
            "Cuadro 7: 64 granos (Total: 127 granos)\n",
            "Cuadro 8: 128 granos (Total: 255 granos)\n",
            "Cuadro 9: 256 granos (Total: 511 granos)\n",
            "Cuadro 10: 512 granos (Total: 1023 granos)\n",
            "Cuadro 11: 1024 granos (Total: 2047 granos)\n",
            "Cuadro 12: 2048 granos (Total: 4095 granos)\n",
            "Cuadro 13: 4096 granos (Total: 8191 granos)\n",
            "Cuadro 14: 8192 granos (Total: 16383 granos)\n",
            "Cuadro 15: 16384 granos (Total: 32767 granos)\n",
            "Cuadro 16: 32768 granos (Total: 65535 granos)\n",
            "Cuadro 17: 65536 granos (Total: 131071 granos)\n",
            "Cuadro 18: 131072 granos (Total: 262143 granos)\n",
            "Cuadro 19: 262144 granos (Total: 524287 granos)\n",
            "Cuadro 20: 524288 granos (Total: 1048575 granos)\n",
            "Cuadro 21: 1048576 granos (Total: 2097151 granos)\n",
            "Cuadro 22: 2097152 granos (Total: 4194303 granos)\n",
            "Cuadro 23: 4194304 granos (Total: 8388607 granos)\n",
            "Cuadro 24: 8388608 granos (Total: 16777215 granos)\n",
            "Cuadro 25: 16777216 granos (Total: 33554431 granos)\n",
            "Cuadro 26: 33554432 granos (Total: 67108863 granos)\n",
            "Cuadro 27: 67108864 granos (Total: 134217727 granos)\n",
            "Cuadro 28: 134217728 granos (Total: 268435455 granos)\n",
            "Cuadro 29: 268435456 granos (Total: 536870911 granos)\n",
            "Cuadro 30: 536870912 granos (Total: 1073741823 granos)\n",
            "Cuadro 31: 1073741824 granos (Total: 2147483647 granos)\n",
            "Cuadro 32: 2147483648 granos (Total: 4294967295 granos)\n",
            "Cuadro 33: 4294967296 granos (Total: 8589934591 granos)\n",
            "Cuadro 34: 8589934592 granos (Total: 17179869183 granos)\n",
            "Cuadro 35: 17179869184 granos (Total: 34359738367 granos)\n",
            "Cuadro 36: 34359738368 granos (Total: 68719476735 granos)\n",
            "Cuadro 37: 68719476736 granos (Total: 137438953471 granos)\n",
            "Cuadro 38: 137438953472 granos (Total: 274877906943 granos)\n",
            "Cuadro 39: 274877906944 granos (Total: 549755813887 granos)\n",
            "Cuadro 40: 549755813888 granos (Total: 1099511627775 granos)\n",
            "Cuadro 41: 1099511627776 granos (Total: 2199023255551 granos)\n",
            "Cuadro 42: 2199023255552 granos (Total: 4398046511103 granos)\n",
            "Cuadro 43: 4398046511104 granos (Total: 8796093022207 granos)\n",
            "Cuadro 44: 8796093022208 granos (Total: 17592186044415 granos)\n",
            "Cuadro 45: 17592186044416 granos (Total: 35184372088831 granos)\n",
            "Cuadro 46: 35184372088832 granos (Total: 70368744177663 granos)\n",
            "Cuadro 47: 70368744177664 granos (Total: 140737488355327 granos)\n",
            "Cuadro 48: 140737488355328 granos (Total: 281474976710655 granos)\n",
            "Cuadro 49: 281474976710656 granos (Total: 562949953421311 granos)\n",
            "Cuadro 50: 562949953421312 granos (Total: 1125899906842623 granos)\n",
            "Cuadro 51: 1125899906842624 granos (Total: 2251799813685247 granos)\n",
            "Cuadro 52: 2251799813685248 granos (Total: 4503599627370495 granos)\n",
            "Cuadro 53: 4503599627370496 granos (Total: 9007199254740991 granos)\n",
            "Cuadro 54: 9007199254740992 granos (Total: 18014398509481983 granos)\n",
            "Cuadro 55: 18014398509481984 granos (Total: 36028797018963967 granos)\n",
            "Cuadro 56: 36028797018963968 granos (Total: 72057594037927935 granos)\n",
            "Cuadro 57: 72057594037927936 granos (Total: 144115188075855871 granos)\n",
            "Cuadro 58: 144115188075855872 granos (Total: 288230376151711743 granos)\n",
            "Cuadro 59: 288230376151711744 granos (Total: 576460752303423487 granos)\n",
            "Cuadro 60: 576460752303423488 granos (Total: 1152921504606846975 granos)\n",
            "Cuadro 61: 1152921504606846976 granos (Total: 2305843009213693951 granos)\n",
            "Cuadro 62: 2305843009213693952 granos (Total: 4611686018427387903 granos)\n",
            "Cuadro 63: 4611686018427387904 granos (Total: 9223372036854775807 granos)\n",
            "Cuadro 64: 9223372036854775808 granos (Total: 18446744073709551615 granos)\n"
          ]
        }
      ]
    },
    {
      "cell_type": "markdown",
      "source": [
        "### 2. Reto Alto Nivel (Opcional)\n",
        "Crear una función que dado un año, diga si es bisiesto.\n",
        "\n",
        "Podemos consultar la Wikipedia para saber qué años son bisiestos.\n",
        "https://es.wikipedia.org/wiki/A%C3%B1o_bisiesto\n",
        "\n",
        "Como puedes ver, existe una regla general  de que los años deben ser bisiestos (son múltiplos de 4), pero hay excepciones a esta regla general (los años terminan en 00, por lo que al final del año en este caso, el año no es un año bisiesto, pero con la última excepción de la excepción anterior (donde el año es un múltiplo de 400), el año es un año bisiesto\n",
        "Por ejemplo, los años 2100, 2200 y 2300 no son años bisiestos, pero  2400 es un año bisiesto.\n",
        "\n",
        "\n",
        "\n",
        "\n",
        "\n",
        "\n",
        "\n",
        "\n"
      ],
      "metadata": {
        "id": "3doFKVDLYDaT"
      }
    },
    {
      "cell_type": "code",
      "source": [
        "def es_bisiesto(anio):\n",
        "    # Un año es bisiesto si es múltiplo de 4\n",
        "    if anio % 4 == 0:\n",
        "        # Pero si también es múltiplo de 100, no es bisiesto, a menos que sea múltiplo de 400\n",
        "        if anio % 100 == 0:\n",
        "            if anio % 400 == 0:\n",
        "                return True\n",
        "            else:\n",
        "                return False\n",
        "        else:\n",
        "            return True\n",
        "    else:\n",
        "        return False\n",
        "\n",
        "# Ejemplo de uso de la función\n",
        "anio = 2024\n",
        "if es_bisiesto(anio):\n",
        "    print(f'{anio} es un año bisiesto')\n",
        "else:\n",
        "    print(f'{anio} no es un año bisiesto')"
      ],
      "metadata": {
        "id": "V2HxeV5XZXop",
        "outputId": "b222ccd7-ae47-490c-81a2-fbdb0c1bed73",
        "colab": {
          "base_uri": "https://localhost:8080/"
        }
      },
      "execution_count": 2,
      "outputs": [
        {
          "output_type": "stream",
          "name": "stdout",
          "text": [
            "2024 es un año bisiesto\n"
          ]
        }
      ]
    },
    {
      "cell_type": "markdown",
      "source": [
        "Eso es todo por ahora, no olvides socializar tus respuestas en el *canal general * y consultar a tu coach cualquier duda que tengas.\n",
        "¡Que tengas mucho éxito!\n"
      ],
      "metadata": {
        "id": "g_mQI0xi7Brg"
      }
    }
  ]
}